{
 "cells": [
  {
   "cell_type": "code",
   "execution_count": null,
   "id": "2a9e4ed7",
   "metadata": {},
   "outputs": [],
   "source": [
    "import pandas as pd\n",
    "import numpy as np\n",
    "import matplotlib.pyplot as plt\n",
    "import seaborn as sns\n",
    "from sklearn.preprocessing import LabelEncoder, StandardScaler"
   ]
  },
  {
   "cell_type": "code",
   "execution_count": null,
   "id": "2da8dd93",
   "metadata": {},
   "outputs": [],
   "source": [
    "# Step 1: Load the Dataset\n",
    "df = pd.read_csv('titanic.csv')\n",
    "\n",
    "# Display the first few rows of the dataset\n",
    "print(df.head())"
   ]
  },
  {
   "cell_type": "code",
   "execution_count": null,
   "id": "42521752",
   "metadata": {},
   "outputs": [],
   "source": [
    "# Step 2: Clean the Data\n",
    "# Check for missing values\n",
    "print(df.isnull().sum())\n",
    "\n",
    "# Handle missing values\n",
    "df['Age'].fillna(df['Age'].mean(), inplace=True)\n",
    "df['Embarked'].fillna(df['Embarked'].mode()[0], inplace=True)"
   ]
  },
  {
   "cell_type": "code",
   "execution_count": null,
   "id": "cc778127",
   "metadata": {},
   "outputs": [],
   "source": [
    "# Step 3: Handle Outliers (Remove based on Z-score or other methods)\n",
    "from scipy import stats\n",
    "df = df[(np.abs(stats.zscore(df.select_dtypes(include=[float]))) < 3).all(axis=1)]"
   ]
  },
  {
   "cell_type": "code",
   "execution_count": null,
   "id": "521d10b8",
   "metadata": {},
   "outputs": [],
   "source": [
    "# Step 4: Encode Categorical Features\n",
    "label_encoder = LabelEncoder()\n",
    "df['Sex'] = label_encoder.fit_transform(df['Sex'])"
   ]
  },
  {
   "cell_type": "code",
   "execution_count": null,
   "id": "1c0ce012",
   "metadata": {},
   "outputs": [],
   "source": [
    "# Step 5: Scale Numerical Features\n",
    "scaler = StandardScaler()\n",
    "df[['Age', 'Fare']] = scaler.fit_transform(df[['Age', 'Fare']])"
   ]
  },
  {
   "cell_type": "code",
   "execution_count": null,
   "id": "5a38b75e",
   "metadata": {},
   "outputs": [],
   "source": [
    "# Step 6: The dataset is now ready for machine learning models\n",
    "print(df.head())"
   ]
  }
 ],
 "metadata": {
  "language_info": {
   "name": "python"
  }
 },
 "nbformat": 4,
 "nbformat_minor": 5
}
